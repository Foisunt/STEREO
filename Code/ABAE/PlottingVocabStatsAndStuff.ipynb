{
 "cells": [
  {
   "cell_type": "code",
   "execution_count": 1,
   "metadata": {},
   "outputs": [],
   "source": [
    "import logging\n",
    "import json\n",
    "import operator\n",
    "import codecs\n",
    "import itertools\n",
    "\n",
    "import matplotlib.pyplot as plt\n",
    "\n",
    "from tqdm import tqdm\n",
    "from argParseDummy import args\n",
    "from pathlib import Path"
   ]
  },
  {
   "cell_type": "code",
   "execution_count": 2,
   "metadata": {},
   "outputs": [],
   "source": [
    "args()\n",
    "\n",
    "logging.basicConfig(level=logging.INFO, format='%(asctime)s %(levelname)s %(message)s')\n",
    "logger = logging.getLogger(__name__)"
   ]
  },
  {
   "cell_type": "code",
   "execution_count": 3,
   "metadata": {},
   "outputs": [],
   "source": [
    "#loads the json dump from vocab creation\r\n",
    "def loadVocabDumpSort():\r\n",
    "    word_freqs_str = Path(\"savedDataAndModels/wordFreqs.json\").read_text()\r\n",
    "    word_freqs_dict = json.loads(word_freqs_str)\r\n",
    "    sorted_word_freqs = sorted(word_freqs_dict.items(), key=operator.itemgetter(1), reverse=True)\r\n",
    "    return sorted_word_freqs\r\n",
    "\r\n",
    "def summedFreqs(swf):\r\n",
    "    acc=0\r\n",
    "    return [acc:=acc+x for _,x in swf]\r\n",
    "\r\n",
    "#calculate the number of total words, unique words and other stuff\r\n",
    "def printVocabStats(sorted_word_freqs,sum_freq, ns=[args.vocab_size]):\r\n",
    "    print(\"unique words: \", len(sorted_word_freqs))\r\n",
    "    print(\"total words: \", sum_freq[-1])\r\n",
    "    for n in ns:\r\n",
    "        print()\r\n",
    "        print(\"top \", n, \" total words: \", sum_freq[n])\r\n",
    "        print(100 * sum_freq[n] / sum_freq[-1], \"% of total words\")\r\n",
    "        print(100 * n / len(sorted_word_freqs), \"% of unique words\")\r\n",
    "        print(n,\"s word\", sorted_word_freqs[n])\r\n",
    "        "
   ]
  },
  {
   "cell_type": "code",
   "execution_count": 4,
   "metadata": {},
   "outputs": [
    {
     "name": "stdout",
     "output_type": "stream",
     "text": [
      "unique words:  1400093\n",
      "total words:  238582456\n",
      "\n",
      "top  10000  total words:  214015914\n",
      "89.70312301588513 % of total words\n",
      "0.714238268457881 % of unique words\n",
      "10000 s word ('isotope', 1933)\n",
      "\n",
      "top  25000  total words:  226653582\n",
      "95.00010428260492 % of total words\n",
      "1.7855956711447025 % of unique words\n",
      "25000 s word ('dpcr', 371)\n",
      "\n",
      "top  50000  total words:  231516728\n",
      "97.03845449558118 % of total words\n",
      "3.571191342289405 % of unique words\n",
      "50000 s word ('dwivedi', 105)\n",
      "\n",
      "top  75000  total words:  233353145\n",
      "97.80817454574279 % of total words\n",
      "5.356787013434108 % of unique words\n",
      "75000 s word ('βgal', 52)\n",
      "\n",
      "top  100000  total words:  234363342\n",
      "98.23159084253874 % of total words\n",
      "7.14238268457881 % of unique words\n",
      "100000 s word ('nemenyi', 32)\n",
      "\n",
      "top  150000  total words:  235483175\n",
      "98.70096022483732 % of total words\n",
      "10.713574026868216 % of unique words\n",
      "150000 s word ('tnnc1', 16)\n"
     ]
    }
   ],
   "source": [
    "sort_wf = loadVocabDumpSort()\n",
    "sum_wf = summedFreqs(sort_wf)\n",
    "sum_percent = list(map(lambda x: 100*x/sum_wf[-1], sum_wf))\n",
    "printVocabStats(sort_wf, sum_wf, [10000,25000,50000,75000,100000, 150000])"
   ]
  },
  {
   "cell_type": "code",
   "execution_count": 5,
   "metadata": {},
   "outputs": [],
   "source": [
    "#clac extOth and extr min_cnt 5 coverage\n",
    "vocab_strs = [args.extOthVocab_path.read_text(\"utf-8\"), args.extrVocab_path.read_text(\"utf-8\")]\n",
    "\n",
    "def strLst2NumLst(strLst):\n",
    "    return list(map(int, strLst.split()[1:-1:2]))\n",
    "\n",
    "#not above but geq\n",
    "sumAboveX = lambda lst, x: sum(itertools.takewhile(lambda y:y >=x,lst))\n",
    "\n",
    "occLists = list(map(strLst2NumLst, vocab_strs))\n",
    "\n",
    "totalWords = list(map(sum, occLists))\n",
    "uniqueWords = list(map(lambda x: len(x)-3, occLists))\n",
    "\n",
    "def printPercCovMinFreq(occLst, end):\n",
    "    tW = sum(occLst)\n",
    "    print(\"total Words: \", tW)\n",
    "    for x in range(1,end):\n",
    "        perAX = sumAboveX(occLst[3:], x)/tW*100\n",
    "        print(\"percentage geq\",x,\":\",perAX)\n"
   ]
  },
  {
   "cell_type": "code",
   "execution_count": 6,
   "metadata": {},
   "outputs": [
    {
     "name": "stdout",
     "output_type": "stream",
     "text": [
      "total Words:  1467484\n",
      "percentage geq 1 : 100.0\n",
      "percentage geq 2 : 98.90710903832682\n",
      "percentage geq 3 : 97.9228393631549\n",
      "percentage geq 4 : 97.14661284211617\n",
      "percentage geq 5 : 96.41611084005004\n"
     ]
    }
   ],
   "source": [
    "printPercCovMinFreq(occLists[0],6)"
   ]
  },
  {
   "cell_type": "code",
   "execution_count": 7,
   "metadata": {},
   "outputs": [
    {
     "name": "stdout",
     "output_type": "stream",
     "text": [
      "total Words:  82967\n",
      "percentage geq 1 : 100.0\n",
      "percentage geq 2 : 97.23504525895838\n",
      "percentage geq 3 : 94.120553955187\n",
      "percentage geq 4 : 91.42309592970699\n",
      "percentage geq 5 : 88.94018103583352\n"
     ]
    }
   ],
   "source": [
    "printPercCovMinFreq(occLists[1],6)"
   ]
  },
  {
   "cell_type": "code",
   "execution_count": 8,
   "metadata": {},
   "outputs": [
    {
     "data": {
      "image/png": "[encoded data removed]",
      "text/plain": [
       "<Figure size 432x288 with 1 Axes>"
      ]
     },
     "metadata": {
      "needs_background": "light"
     },
     "output_type": "display_data"
    }
   ],
   "source": [
    "xmin = 1\n",
    "xmax = 100000\n",
    "plt.plot(range(xmin, xmax), sum_percent[xmin:xmax])\n",
    "plt.xlabel(\"number of unique words, sorted by frequency\")\n",
    "plt.ylabel(\"total word occurences\")\n",
    "plt.yscale(\"log\")\n",
    "plt.xscale(\"log\")\n",
    "plt.yticks([10,100], [\"10%\",\"100%\"])\n",
    "plt.grid(True)\n",
    "plt.savefig(Path(\"plots/WFLogLog_100k.pdf\"))"
   ]
  },
  {
   "cell_type": "code",
   "execution_count": 9,
   "metadata": {},
   "outputs": [],
   "source": [
    "def getSentenceLengths(source = args.pre_path, args = args):\n",
    "    fin = codecs.open(Path(source), 'r', 'utf-8')\n",
    "    length_freqs={}\n",
    "    for line in tqdm(fin):\n",
    "        words = line.strip().split()\n",
    "        if not len(words):\n",
    "            continue\n",
    "        try:\n",
    "            length_freqs[len(words)] +=1\n",
    "        except:\n",
    "            length_freqs[len(words)] =1\n",
    "    return length_freqs\n",
    "\n",
    "def countLines(source):\n",
    "    cnt = 0\n",
    "    for line in codecs.open(source, 'r', 'utf-8'):\n",
    "        cnt += 1\n",
    "    return cnt"
   ]
  },
  {
   "cell_type": "code",
   "execution_count": 10,
   "metadata": {
    "scrolled": true
   },
   "outputs": [
    {
     "name": "stderr",
     "output_type": "stream",
     "text": [
      "24557956it [01:03, 389246.04it/s]\n"
     ]
    },
    {
     "ename": "KeyboardInterrupt",
     "evalue": "",
     "output_type": "error",
     "traceback": [
      "\u001b[1;31m---------------------------------------------------------------------------\u001b[0m",
      "\u001b[1;31mKeyboardInterrupt\u001b[0m                         Traceback (most recent call last)",
      "\u001b[1;32m<ipython-input-10-fba688ad8e26>\u001b[0m in \u001b[0;36m<module>\u001b[1;34m\u001b[0m\n\u001b[1;32m----> 1\u001b[1;33m \u001b[0mcordLenDict\u001b[0m \u001b[1;33m=\u001b[0m \u001b[0mgetSentenceLengths\u001b[0m\u001b[1;33m(\u001b[0m\u001b[0msource\u001b[0m \u001b[1;33m=\u001b[0m \u001b[0margs\u001b[0m\u001b[1;33m.\u001b[0m\u001b[0mpre_path\u001b[0m\u001b[1;33m)\u001b[0m\u001b[1;33m\u001b[0m\u001b[1;33m\u001b[0m\u001b[0m\n\u001b[0m\u001b[0;32m      2\u001b[0m \u001b[0mprint\u001b[0m\u001b[1;33m(\u001b[0m\u001b[1;34m\"# Sentences: \"\u001b[0m\u001b[1;33m,\u001b[0m \u001b[0msum\u001b[0m\u001b[1;33m(\u001b[0m\u001b[0mcordLenDict\u001b[0m\u001b[1;33m.\u001b[0m\u001b[0mvalues\u001b[0m\u001b[1;33m(\u001b[0m\u001b[1;33m)\u001b[0m\u001b[1;33m)\u001b[0m\u001b[1;33m)\u001b[0m\u001b[1;33m\u001b[0m\u001b[1;33m\u001b[0m\u001b[0m\n\u001b[0;32m      3\u001b[0m \u001b[0msorted\u001b[0m\u001b[1;33m(\u001b[0m\u001b[0mcordLenDict\u001b[0m\u001b[1;33m.\u001b[0m\u001b[0mitems\u001b[0m\u001b[1;33m(\u001b[0m\u001b[1;33m)\u001b[0m\u001b[1;33m)\u001b[0m\u001b[1;33m\u001b[0m\u001b[1;33m\u001b[0m\u001b[0m\n",
      "\u001b[1;32m<ipython-input-9-106036f040b0>\u001b[0m in \u001b[0;36mgetSentenceLengths\u001b[1;34m(source, args)\u001b[0m\n\u001b[0;32m      2\u001b[0m     \u001b[0mfin\u001b[0m \u001b[1;33m=\u001b[0m \u001b[0mcodecs\u001b[0m\u001b[1;33m.\u001b[0m\u001b[0mopen\u001b[0m\u001b[1;33m(\u001b[0m\u001b[0mPath\u001b[0m\u001b[1;33m(\u001b[0m\u001b[0msource\u001b[0m\u001b[1;33m)\u001b[0m\u001b[1;33m,\u001b[0m \u001b[1;34m'r'\u001b[0m\u001b[1;33m,\u001b[0m \u001b[1;34m'utf-8'\u001b[0m\u001b[1;33m)\u001b[0m\u001b[1;33m\u001b[0m\u001b[1;33m\u001b[0m\u001b[0m\n\u001b[0;32m      3\u001b[0m     \u001b[0mlength_freqs\u001b[0m\u001b[1;33m=\u001b[0m\u001b[1;33m{\u001b[0m\u001b[1;33m}\u001b[0m\u001b[1;33m\u001b[0m\u001b[1;33m\u001b[0m\u001b[0m\n\u001b[1;32m----> 4\u001b[1;33m     \u001b[1;32mfor\u001b[0m \u001b[0mline\u001b[0m \u001b[1;32min\u001b[0m \u001b[0mtqdm\u001b[0m\u001b[1;33m(\u001b[0m\u001b[0mfin\u001b[0m\u001b[1;33m)\u001b[0m\u001b[1;33m:\u001b[0m\u001b[1;33m\u001b[0m\u001b[1;33m\u001b[0m\u001b[0m\n\u001b[0m\u001b[0;32m      5\u001b[0m         \u001b[0mwords\u001b[0m \u001b[1;33m=\u001b[0m \u001b[0mline\u001b[0m\u001b[1;33m.\u001b[0m\u001b[0mstrip\u001b[0m\u001b[1;33m(\u001b[0m\u001b[1;33m)\u001b[0m\u001b[1;33m.\u001b[0m\u001b[0msplit\u001b[0m\u001b[1;33m(\u001b[0m\u001b[1;33m)\u001b[0m\u001b[1;33m\u001b[0m\u001b[1;33m\u001b[0m\u001b[0m\n\u001b[0;32m      6\u001b[0m         \u001b[1;32mif\u001b[0m \u001b[1;32mnot\u001b[0m \u001b[0mlen\u001b[0m\u001b[1;33m(\u001b[0m\u001b[0mwords\u001b[0m\u001b[1;33m)\u001b[0m\u001b[1;33m:\u001b[0m\u001b[1;33m\u001b[0m\u001b[1;33m\u001b[0m\u001b[0m\n",
      "\u001b[1;32mc:\\users\\lelln\\desktop\\projects\\.venv\\lib\\site-packages\\tqdm\\std.py\u001b[0m in \u001b[0;36m__iter__\u001b[1;34m(self)\u001b[0m\n\u001b[0;32m   1127\u001b[0m \u001b[1;33m\u001b[0m\u001b[0m\n\u001b[0;32m   1128\u001b[0m         \u001b[1;32mtry\u001b[0m\u001b[1;33m:\u001b[0m\u001b[1;33m\u001b[0m\u001b[1;33m\u001b[0m\u001b[0m\n\u001b[1;32m-> 1129\u001b[1;33m             \u001b[1;32mfor\u001b[0m \u001b[0mobj\u001b[0m \u001b[1;32min\u001b[0m \u001b[0miterable\u001b[0m\u001b[1;33m:\u001b[0m\u001b[1;33m\u001b[0m\u001b[1;33m\u001b[0m\u001b[0m\n\u001b[0m\u001b[0;32m   1130\u001b[0m                 \u001b[1;32myield\u001b[0m \u001b[0mobj\u001b[0m\u001b[1;33m\u001b[0m\u001b[1;33m\u001b[0m\u001b[0m\n\u001b[0;32m   1131\u001b[0m                 \u001b[1;31m# Update and possibly print the progressbar.\u001b[0m\u001b[1;33m\u001b[0m\u001b[1;33m\u001b[0m\u001b[1;33m\u001b[0m\u001b[0m\n",
      "\u001b[1;32mC:\\Program Files\\Python38\\lib\\codecs.py\u001b[0m in \u001b[0;36m__next__\u001b[1;34m(self)\u001b[0m\n\u001b[0;32m    712\u001b[0m \u001b[1;33m\u001b[0m\u001b[0m\n\u001b[0;32m    713\u001b[0m         \u001b[1;34m\"\"\" Return the next decoded line from the input stream.\"\"\"\u001b[0m\u001b[1;33m\u001b[0m\u001b[1;33m\u001b[0m\u001b[0m\n\u001b[1;32m--> 714\u001b[1;33m         \u001b[1;32mreturn\u001b[0m \u001b[0mnext\u001b[0m\u001b[1;33m(\u001b[0m\u001b[0mself\u001b[0m\u001b[1;33m.\u001b[0m\u001b[0mreader\u001b[0m\u001b[1;33m)\u001b[0m\u001b[1;33m\u001b[0m\u001b[1;33m\u001b[0m\u001b[0m\n\u001b[0m\u001b[0;32m    715\u001b[0m \u001b[1;33m\u001b[0m\u001b[0m\n\u001b[0;32m    716\u001b[0m     \u001b[1;32mdef\u001b[0m \u001b[0m__iter__\u001b[0m\u001b[1;33m(\u001b[0m\u001b[0mself\u001b[0m\u001b[1;33m)\u001b[0m\u001b[1;33m:\u001b[0m\u001b[1;33m\u001b[0m\u001b[1;33m\u001b[0m\u001b[0m\n",
      "\u001b[1;32mC:\\Program Files\\Python38\\lib\\codecs.py\u001b[0m in \u001b[0;36m__next__\u001b[1;34m(self)\u001b[0m\n\u001b[0;32m    643\u001b[0m \u001b[1;33m\u001b[0m\u001b[0m\n\u001b[0;32m    644\u001b[0m         \u001b[1;34m\"\"\" Return the next decoded line from the input stream.\"\"\"\u001b[0m\u001b[1;33m\u001b[0m\u001b[1;33m\u001b[0m\u001b[0m\n\u001b[1;32m--> 645\u001b[1;33m         \u001b[0mline\u001b[0m \u001b[1;33m=\u001b[0m \u001b[0mself\u001b[0m\u001b[1;33m.\u001b[0m\u001b[0mreadline\u001b[0m\u001b[1;33m(\u001b[0m\u001b[1;33m)\u001b[0m\u001b[1;33m\u001b[0m\u001b[1;33m\u001b[0m\u001b[0m\n\u001b[0m\u001b[0;32m    646\u001b[0m         \u001b[1;32mif\u001b[0m \u001b[0mline\u001b[0m\u001b[1;33m:\u001b[0m\u001b[1;33m\u001b[0m\u001b[1;33m\u001b[0m\u001b[0m\n\u001b[0;32m    647\u001b[0m             \u001b[1;32mreturn\u001b[0m \u001b[0mline\u001b[0m\u001b[1;33m\u001b[0m\u001b[1;33m\u001b[0m\u001b[0m\n",
      "\u001b[1;32mC:\\Program Files\\Python38\\lib\\codecs.py\u001b[0m in \u001b[0;36mreadline\u001b[1;34m(self, size, keepends)\u001b[0m\n\u001b[0;32m    556\u001b[0m         \u001b[1;31m# If size is given, we call read() only once\u001b[0m\u001b[1;33m\u001b[0m\u001b[1;33m\u001b[0m\u001b[1;33m\u001b[0m\u001b[0m\n\u001b[0;32m    557\u001b[0m         \u001b[1;32mwhile\u001b[0m \u001b[1;32mTrue\u001b[0m\u001b[1;33m:\u001b[0m\u001b[1;33m\u001b[0m\u001b[1;33m\u001b[0m\u001b[0m\n\u001b[1;32m--> 558\u001b[1;33m             \u001b[0mdata\u001b[0m \u001b[1;33m=\u001b[0m \u001b[0mself\u001b[0m\u001b[1;33m.\u001b[0m\u001b[0mread\u001b[0m\u001b[1;33m(\u001b[0m\u001b[0mreadsize\u001b[0m\u001b[1;33m,\u001b[0m \u001b[0mfirstline\u001b[0m\u001b[1;33m=\u001b[0m\u001b[1;32mTrue\u001b[0m\u001b[1;33m)\u001b[0m\u001b[1;33m\u001b[0m\u001b[1;33m\u001b[0m\u001b[0m\n\u001b[0m\u001b[0;32m    559\u001b[0m             \u001b[1;32mif\u001b[0m \u001b[0mdata\u001b[0m\u001b[1;33m:\u001b[0m\u001b[1;33m\u001b[0m\u001b[1;33m\u001b[0m\u001b[0m\n\u001b[0;32m    560\u001b[0m                 \u001b[1;31m# If we're at a \"\\r\" read one extra character (which might\u001b[0m\u001b[1;33m\u001b[0m\u001b[1;33m\u001b[0m\u001b[1;33m\u001b[0m\u001b[0m\n",
      "\u001b[1;32mC:\\Program Files\\Python38\\lib\\codecs.py\u001b[0m in \u001b[0;36mread\u001b[1;34m(self, size, chars, firstline)\u001b[0m\n\u001b[0;32m    496\u001b[0m                 \u001b[0mnewdata\u001b[0m \u001b[1;33m=\u001b[0m \u001b[0mself\u001b[0m\u001b[1;33m.\u001b[0m\u001b[0mstream\u001b[0m\u001b[1;33m.\u001b[0m\u001b[0mread\u001b[0m\u001b[1;33m(\u001b[0m\u001b[1;33m)\u001b[0m\u001b[1;33m\u001b[0m\u001b[1;33m\u001b[0m\u001b[0m\n\u001b[0;32m    497\u001b[0m             \u001b[1;32melse\u001b[0m\u001b[1;33m:\u001b[0m\u001b[1;33m\u001b[0m\u001b[1;33m\u001b[0m\u001b[0m\n\u001b[1;32m--> 498\u001b[1;33m                 \u001b[0mnewdata\u001b[0m \u001b[1;33m=\u001b[0m \u001b[0mself\u001b[0m\u001b[1;33m.\u001b[0m\u001b[0mstream\u001b[0m\u001b[1;33m.\u001b[0m\u001b[0mread\u001b[0m\u001b[1;33m(\u001b[0m\u001b[0msize\u001b[0m\u001b[1;33m)\u001b[0m\u001b[1;33m\u001b[0m\u001b[1;33m\u001b[0m\u001b[0m\n\u001b[0m\u001b[0;32m    499\u001b[0m             \u001b[1;31m# decode bytes (those remaining from the last call included)\u001b[0m\u001b[1;33m\u001b[0m\u001b[1;33m\u001b[0m\u001b[1;33m\u001b[0m\u001b[0m\n\u001b[0;32m    500\u001b[0m             \u001b[0mdata\u001b[0m \u001b[1;33m=\u001b[0m \u001b[0mself\u001b[0m\u001b[1;33m.\u001b[0m\u001b[0mbytebuffer\u001b[0m \u001b[1;33m+\u001b[0m \u001b[0mnewdata\u001b[0m\u001b[1;33m\u001b[0m\u001b[1;33m\u001b[0m\u001b[0m\n",
      "\u001b[1;31mKeyboardInterrupt\u001b[0m: "
     ]
    }
   ],
   "source": [
    "cordLenDict = getSentenceLengths(source = args.pre_path)\n",
    "print(\"# Sentences: \", sum(cordLenDict.values()))\n",
    "sorted(cordLenDict.items())"
   ]
  },
  {
   "cell_type": "code",
   "execution_count": null,
   "metadata": {
    "scrolled": true
   },
   "outputs": [],
   "source": [
    "extOthLenDict = getSentenceLengths(source = args.extOthProcessed_path)\n",
    "print(\"# Sentences: \", sum(extOthLenDict.values()))\n",
    "sorted(extOthLenDict.items())"
   ]
  },
  {
   "cell_type": "code",
   "execution_count": null,
   "metadata": {
    "scrolled": true
   },
   "outputs": [],
   "source": [
    "extrLenDict = getSentenceLengths(source = args.extractedProcessed_path)\n",
    "print(\"# Sentences: \", sum(extrLenDict.values()))\n",
    "sorted(extrLenDict.items())"
   ]
  },
  {
   "cell_type": "code",
   "execution_count": null,
   "metadata": {
    "scrolled": true
   },
   "outputs": [],
   "source": [
    "#line counts\n",
    "preLines = countLines(args.pre_path)\n",
    "print(preLines)\n",
    "filtLines = countLines(args.filtered_path)\n",
    "print(filtLines)\n",
    "print(\"language filtering filtered about {:.2f}% calced by line count\".format(100* filtLines/(preLines+filtLines)))"
   ]
  },
  {
   "cell_type": "code",
   "execution_count": 10,
   "metadata": {
    "scrolled": true
   },
   "outputs": [
    {
     "name": "stderr",
     "output_type": "stream",
     "text": [
      "32282582it [01:25, 379144.38it/s]\n"
     ]
    }
   ],
   "source": [
    "lens = getSentenceLengths()\n",
    "sLens = sorted(lens.items(), key=operator.itemgetter(0))\n",
    "x, y = map(list,zip(*sLens))\n",
    "len_sum = summedFreqs(sLens)\n",
    "len_percent = list(map(lambda x: 100*x/len_sum[-1], len_sum))"
   ]
  },
  {
   "cell_type": "code",
   "execution_count": 11,
   "metadata": {},
   "outputs": [
    {
     "data": {
      "image/png": "[encoded data removed]",
      "text/plain": [
       "<Figure size 432x288 with 1 Axes>"
      ]
     },
     "metadata": {
      "needs_background": "light"
     },
     "output_type": "display_data"
    }
   ],
   "source": [
    "plt.plot(x[0:100],len_percent[0:100])\n",
    "plt.xlabel(\"max sentence length\")\n",
    "plt.ylabel(\"coverage of sentences\")\n",
    "plt.yscale(\"log\")\n",
    "plt.xscale(\"log\")\n",
    "plt.grid(True)\n",
    "plt.yticks([1, 10,100], [\"1%\", \"10%\",\"100%\"])\n",
    "plt.savefig(Path(\"plots/LenPercLogLog_100.pdf\"))"
   ]
  },
  {
   "cell_type": "code",
   "execution_count": null,
   "metadata": {},
   "outputs": [],
   "source": [
    "def printMaxlenStats(len_percent,x,y, maxlen_list = [50,60,70,80]):\n",
    "    print(\"total sentences:\", len_sum[-1])\n",
    "    for maxlen in maxlen_list:\n",
    "        print(\"The {}s shortest length is {}\".format(maxlen, x[maxlen]))\n",
    "        print(\"{} sentences are this long\".format(y[maxlen]))\n",
    "        print(\"{}% of sentences are smaller or eqal this length\".format(len_percent[maxlen]))\n",
    "        print()"
   ]
  },
  {
   "cell_type": "code",
   "execution_count": null,
   "metadata": {},
   "outputs": [],
   "source": [
    "printMaxlenStats(len_percent,x,y)"
   ]
  }
 ],
 "metadata": {
  "kernelspec": {
   "display_name": "Python 3",
   "language": "python",
   "name": "python3"
  },
  "language_info": {
   "codemirror_mode": {
    "name": "ipython",
    "version": 3
   },
   "file_extension": ".py",
   "mimetype": "text/x-python",
   "name": "python",
   "nbconvert_exporter": "python",
   "pygments_lexer": "ipython3",
   "version": "3.8.3"
  }
 },
 "nbformat": 4,
 "nbformat_minor": 4
}