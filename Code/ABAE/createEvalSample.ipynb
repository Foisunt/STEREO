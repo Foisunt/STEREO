{
 "cells": [
  {
   "cell_type": "code",
   "execution_count": null,
   "metadata": {},
   "outputs": [],
   "source": [
    "from pathlib import Path\n",
    "import codecs"
   ]
  },
  {
   "cell_type": "code",
   "execution_count": null,
   "metadata": {},
   "outputs": [],
   "source": [
    "p = Path(\"../Evaluierung/Samples\")\n",
    "apa_paths = list(p.glob('*apa.json'))\n",
    "tmp = list(filter(lambda x: x not in apa_paths, list(p.glob('*.json'))))\n",
    "nonApa_paths = tmp[0:5]\n",
    "nonApa_paths.append(tmp[6])"
   ]
  },
  {
   "cell_type": "code",
   "execution_count": null,
   "metadata": {},
   "outputs": [],
   "source": [
    "apa_paths"
   ]
  },
  {
   "cell_type": "code",
   "execution_count": null,
   "metadata": {},
   "outputs": [],
   "source": [
    "nonApa_paths"
   ]
  },
  {
   "cell_type": "code",
   "execution_count": null,
   "metadata": {},
   "outputs": [],
   "source": [
    "import os,sys,inspect\n",
    "currentdir = os.path.dirname(os.path.abspath(inspect.getfile(inspect.currentframe())))\n",
    "parentdir = os.path.dirname(currentdir) \n",
    "sys.path.insert(0,parentdir) \n",
    "from loadPaper import loadExtracted"
   ]
  },
  {
   "cell_type": "code",
   "execution_count": null,
   "metadata": {},
   "outputs": [],
   "source": [
    "def extractEvalSen(pathList, savePath, numList):\n",
    "    extrList = list(map(loadExtracted, pathList))\n",
    "    saveFile = codecs.open(savePath, 'w', 'utf-8')\n",
    "    for i, extFile in enumerate(extrList):\n",
    "        senList = list(map(lambda x:x.sentence, extFile[0:numList[i]]))\n",
    "        saveFile.write(\" \\n \\n\".join(senList) + \" \\n \\n\")"
   ]
  },
  {
   "cell_type": "code",
   "execution_count": null,
   "metadata": {},
   "outputs": [],
   "source": [
    "extractEvalSen(apa_paths, Path(\"../Evaluierung/AEapaSen\"), [0,41,1,14,2,42])"
   ]
  },
  {
   "cell_type": "code",
   "execution_count": null,
   "metadata": {},
   "outputs": [],
   "source": [
    "extractEvalSen(nonApa_paths, Path(\"../Evaluierung/AEnonApaSen\"), [9, 19, 18, 18, 18, 18])"
   ]
  }
 ],
 "metadata": {
  "kernelspec": {
   "display_name": "Python 3",
   "language": "python",
   "name": "python3"
  },
  "language_info": {
   "codemirror_mode": {
    "name": "ipython",
    "version": 3
   },
   "file_extension": ".py",
   "mimetype": "text/x-python",
   "name": "python",
   "nbconvert_exporter": "python",
   "pygments_lexer": "ipython3",
   "version": "3.8.3"
  }
 },
 "nbformat": 4,
 "nbformat_minor": 4
}
