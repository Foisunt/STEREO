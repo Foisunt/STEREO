{
 "cells": [
  {
   "cell_type": "code",
   "execution_count": 1,
   "metadata": {},
   "outputs": [],
   "source": [
    "from useABAE import useABAE"
   ]
  },
  {
   "cell_type": "code",
   "execution_count": 2,
   "metadata": {},
   "outputs": [],
   "source": [
    "inPath = \"../extracted.json\"\n",
    "outPath = \"./this_is_a_result.json\"\n",
    "modelPath = \"./savedDataAndModels/outDirPath/extrModelExtr30/\""
   ]
  },
  {
   "cell_type": "code",
   "execution_count": 3,
   "metadata": {},
   "outputs": [
    {
     "name": "stdout",
     "output_type": "stream",
     "text": [
      "savedDataAndModels\\extrVocabDict.json\n",
      "Loading vocab ...\n",
      "Finished loading vocab ...\n"
     ]
    },
    {
     "name": "stderr",
     "output_type": "stream",
     "text": [
      "2021-01-23 10:27:46,180 INFO Loading embeddings from: savedDataAndModels\\extrEmbW2V\n",
      "2021-01-23 10:27:46,181 INFO loading Word2Vec object from savedDataAndModels\\extrEmbW2V\n",
      "2021-01-23 10:27:46,220 INFO loading wv recursively from savedDataAndModels\\extrEmbW2V.wv.* with mmap=None\n",
      "2021-01-23 10:27:46,221 INFO setting ignored attribute vectors_norm to None\n",
      "2021-01-23 10:27:46,221 INFO loading vocabulary recursively from savedDataAndModels\\extrEmbW2V.vocabulary.* with mmap=None\n",
      "2021-01-23 10:27:46,222 INFO loading trainables recursively from savedDataAndModels\\extrEmbW2V.trainables.* with mmap=None\n",
      "2021-01-23 10:27:46,222 INFO setting ignored attribute cum_table to None\n",
      "2021-01-23 10:27:46,223 INFO loaded savedDataAndModels\\extrEmbW2V\n",
      "2021-01-23 10:27:46,360 INFO   #vectors: 4519, #dimensions: 200\n",
      "2021-01-23 10:27:46,397 INFO Initializing word embedding matrix\n",
      "2021-01-23 10:27:46,439 INFO 3677/7250 word vectors initialized (hit rate: 50.72%)\n",
      "2021-01-23 10:27:46,444 INFO Initializing aspect embedding matrix as centroid of kmean clusters\n"
     ]
    }
   ],
   "source": [
    "useABAE(inPath, outPath, modelPath)"
   ]
  }
 ],
 "metadata": {
  "kernelspec": {
   "display_name": "Python 3",
   "language": "python",
   "name": "python3"
  },
  "language_info": {
   "codemirror_mode": {
    "name": "ipython",
    "version": 3
   },
   "file_extension": ".py",
   "mimetype": "text/x-python",
   "name": "python",
   "nbconvert_exporter": "python",
   "pygments_lexer": "ipython3",
   "version": "3.8.3"
  }
 },
 "nbformat": 4,
 "nbformat_minor": 4
}
