{
 "cells": [
  {
   "cell_type": "code",
   "execution_count": null,
   "metadata": {},
   "outputs": [],
   "source": [
    "import numpy as np\n",
    "import logging\n",
    "from time import time\n",
    "import codecs\n",
    "\n",
    "import tensorflow as tf\n",
    "import tensorflow.keras as keras\n",
    "import tensorflow.keras.backend as K\n",
    "#tf.sysconfig.get_build_info()\n",
    "\n",
    "from reader import get_vocab, read_trainingData\n",
    "from train import train\n",
    "from argParseDummy import args\n",
    "from pathlib import Path\n",
    "\n",
    "\n",
    "args()\n",
    "logging.basicConfig(level=logging.INFO, format='%(asctime)s %(levelname)s %(message)s')\n",
    "logger = logging.getLogger(__name__)\n",
    "\n",
    "\n",
    "def loadAspectWords(args, saveName, k):\n",
    "    #tmp = {0:(\"A0\", [\"w0\", \"w1\"]), 1:(\"A1\", [\"w0\",\"w1\"])}\n",
    "    p = args.out_dir_path  / (saveName+str(k)) / 'aspect.log'\n",
    "    content = None\n",
    "    with p.open(encoding=\"utf-8\") as f:\n",
    "        content = f.readlines()\n",
    "    content = [x.strip() for x in content] \n",
    "    aspectWords = [[y.split(\":\")[0] for y in content[1+3*x].split()] for x in range(int(len(content)/3))]\n",
    "    return aspectWords\n",
    "\n",
    "#asks user to input inferred aspects\n",
    "def infAspectsUserIO(aspectWords):\n",
    "    infAspects = []\n",
    "    for i,wordList in enumerate(aspectWords):\n",
    "        print()\n",
    "        print(\"Aspect: \", str(i))\n",
    "        print(wordList)\n",
    "        aspect = input(\"aspect: \")\n",
    "        \n",
    "        tmpFile = codecs.open(Path(\"tmpAspectsLog\"), \"a\", \"utf-8\")\n",
    "        tmpFile.write(aspect + \"\\n\")\n",
    "        tmpFile.close()\n",
    "        \n",
    "        infAspects.append(aspect)\n",
    "        print()\n",
    "    return infAspects\n",
    "\n",
    "#loads representative words, asks user to iput aspects and saves them to a file\n",
    "def getAndSafeInfAspects(args, saveName, k=15):\n",
    "    aspectWords = loadAspectWords(args,saveName, k)\n",
    "    infAspects = infAspectsUserIO(aspectWords)\n",
    "    path = args.out_dir_path  / (saveName+str(k)) / 'infAspects'\n",
    "    infAspect_file = codecs.open(path, 'w', 'utf-8')\n",
    "    for i,aspect in enumerate(infAspects):\n",
    "        infAspect_file.write(str(i) + \": \"+ aspect + '\\n')\n",
    "\n",
    "\n",
    "def batchInfAsp(emb = \"cord\", kLs=[15, 30, 60], trainStrs = [\"extr\", \"extOth\"]):\n",
    "    for k in kLs:\n",
    "        for trainStr in trainStrs:\n",
    "            print(\"--------------------------------------------------\")\n",
    "            print(\"inferring aspects for\", emb+\"Model\"+ trainStr + str(k) )\n",
    "            getAndSafeInfAspects(args, saveName = emb+\"Model\"+ trainStr, k=k)"
   ]
  },
  {
   "cell_type": "code",
   "execution_count": null,
   "metadata": {
    "scrolled": true
   },
   "outputs": [],
   "source": [
    "#models trained on extracted(supp-sen) with embeddings trained on cord, extracted and extracted+other\n",
    "\n",
    "#saveName : embData + \"Model\" + trainingData, e.g. cordModelExtr, extrModelExtr\n",
    "kToTrain = [15,30,60]\n",
    "embStrs = [\"cord\", \"extr\", \"extOth\"]\n",
    "embPaths = [args.cordEmb_path, args.extrEmb_path, args.extOthEmb_path]\n",
    "vocabPaths = [args.cordVocabDict_path, args.extrVocabDict_path, args.extOthVocabDict_path]\n",
    "\n",
    "for embNr in range(len(embPaths)):\n",
    "    vocab = get_vocab(vocab_path=vocabPaths[embNr])\n",
    "    name = embStrs[embNr] + \"ModelExtr\"\n",
    "    trainExtr_x , _ = read_trainingData(source = args.extractedProcessed_path, \n",
    "                                        vocab = vocab, maxlen = args.maxlen, numLines = -1)\n",
    "    for k in kToTrain:\n",
    "        train(args, vocab, trainExtr_x, emb_path = embPaths[embNr], k=k, saveName=name)"
   ]
  },
  {
   "cell_type": "code",
   "execution_count": null,
   "metadata": {},
   "outputs": [],
   "source": [
    "#models trained on extracted+other(all-sen), the extracted embedding with extr+other training data combination is pointless\n",
    "\n",
    "#saveName : embData + \"Model\" + trainingData, e.g. cordModelExtr, extrModelExtr\n",
    "kToTrain = [15,30,60]\n",
    "embStrs = [\"cord\", \"extOth\"]\n",
    "embPaths = [args.cordEmb_path, args.extOthEmb_path]\n",
    "vocabPaths = [args.cordVocabDict_path, args.extOthVocabDict_path]\n",
    "\n",
    "for embNr in range(len(embPaths)):\n",
    "    vocab = get_vocab(vocab_path=vocabPaths[embNr])\n",
    "    name = embStrs[embNr] + \"ModelExtOth\"\n",
    "    trainExtr_x , _ = read_trainingData(source = args.extOthProcessed_path, \n",
    "                                        vocab = vocab, maxlen = args.maxlen, numLines = -1)\n",
    "    for k in kToTrain:\n",
    "        train(args, vocab, trainExtr_x, emb_path = embPaths[embNr], k=k, saveName=name)"
   ]
  },
  {
   "cell_type": "code",
   "execution_count": null,
   "metadata": {
    "scrolled": true
   },
   "outputs": [],
   "source": [
    "#inf aspects with cord embedding\n",
    "batchInfAsp(\"cord\", kLs=[15, 30, 60], trainStrs=[\"extr\",\"extOth\"]) "
   ]
  },
  {
   "cell_type": "code",
   "execution_count": null,
   "metadata": {
    "scrolled": true
   },
   "outputs": [],
   "source": [
    "#inf aspects with extOth(all-sen) embedding\n",
    "batchInfAsp(\"extOth\", kLs=[15,30,60], trainStrs=[\"extr\",\"extOth\"]) "
   ]
  },
  {
   "cell_type": "code",
   "execution_count": null,
   "metadata": {
    "scrolled": true
   },
   "outputs": [],
   "source": [
    "#inf aspects with extr(supp-sen) embedding\n",
    "batchInfAsp(\"extr\", kLs=[15, 30, 60], trainStrs=[\"extr\"])"
   ]
  }
 ],
 "metadata": {
  "kernelspec": {
   "display_name": "Python 3",
   "language": "python",
   "name": "python3"
  },
  "language_info": {
   "codemirror_mode": {
    "name": "ipython",
    "version": 3
   },
   "file_extension": ".py",
   "mimetype": "text/x-python",
   "name": "python",
   "nbconvert_exporter": "python",
   "pygments_lexer": "ipython3",
   "version": "3.8.3"
  }
 },
 "nbformat": 4,
 "nbformat_minor": 4
}
