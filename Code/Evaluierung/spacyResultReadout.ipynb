{
 "cells": [
  {
   "cell_type": "code",
   "execution_count": 2,
   "metadata": {},
   "outputs": [],
   "source": [
    "#input: e.g. \"Evaluierung/resultSpacyEvalNonApa.txt\"\n",
    "#output: List of Strings\n",
    "\n",
    "def readTxtToList(path):\n",
    "    with open (path, \"r\") as myfile:\n",
    "        data=myfile.readlines()\n",
    "    #print(type(data))\n",
    "    return data\n",
    "    "
   ]
  },
  {
   "cell_type": "code",
   "execution_count": 47,
   "metadata": {},
   "outputs": [],
   "source": [
    "def getApaSentenceEval():\n",
    "    liststrResult = readTxtToList(\"resultSpacyEval.txt\")\n",
    "    liststrResult = liststrResult[1:]\n",
    "    reasonFail = [0] * 5\n",
    "    counterCorrect = 0\n",
    "    x = 0\n",
    "    for item in liststrResult:\n",
    "        item = item[3:]\n",
    "        #If testcase was succesful. increment counter, else increment right item of reasonFailure\n",
    "        if item[0] == \"1\":\n",
    "            counterCorrect += 1\n",
    "        elif item[-3] == \";\":\n",
    "            #print(\"Increment: \" + str(item[-2]))\n",
    "            reasonFail[int(item[-2])-1] += 1\n",
    "            reasonFail[int(item[-4])-1] += 1\n",
    "            #print(\"Only one Item: \" + item)\n",
    "        else:\n",
    "            #print(item[-2])\n",
    "            reasonFail[int(item[-2])-1] += 1\n",
    "            x+=1\n",
    "        #print(\"Item = \" + item)\n",
    "    print(\"APA:\\nCountercorrect: \" + str(counterCorrect))\n",
    "    print(reasonFail)\n",
    "    return counterCorrect, reasonFail"
   ]
  },
  {
   "cell_type": "code",
   "execution_count": 48,
   "metadata": {},
   "outputs": [],
   "source": [
    "def getNonApaSentenceEval():\n",
    "    liststrResult = readTxtToList(\"resultSpacyEvalNonApa.txt\")\n",
    "    liststrResult = liststrResult[1:]\n",
    "    reasonFail = [0] * 5\n",
    "    counterCorrect = 0\n",
    "    x = 0\n",
    "    for item in liststrResult:\n",
    "        tmp = item.find(\":\")+2\n",
    "        isCorrect = item[tmp]\n",
    "        #If testcase was succesful. increment counter, else increment right item of reasonFailure\n",
    "        if isCorrect == \"1\":\n",
    "            counterCorrect += 1\n",
    "        elif item[-3] == \";\":\n",
    "            #print(\"Increment: \" + str(item[-2]))\n",
    "            reasonFail[int(item[-3])-1] += 1\n",
    "            reasonFail[int(item[-5])-1] += 1\n",
    "            #print(\"Only one Item: \" + item)\n",
    "        else:\n",
    "            #print(item[-2])\n",
    "            reasonFail[int(item[-3])-1] += 1\n",
    "            x+=1\n",
    "        #print(\"Item = \" + item)\n",
    "    print(\"NonAPA:\\nCountercorrect: \" + str(counterCorrect))\n",
    "    print(reasonFail)\n",
    "    return counterCorrect, reasonFail"
   ]
  },
  {
   "cell_type": "code",
   "execution_count": 49,
   "metadata": {
    "scrolled": true
   },
   "outputs": [
    {
     "name": "stdout",
     "output_type": "stream",
     "text": [
      "APA:\n",
      "Countercorrect: 46\n",
      "[4, 10, 9, 18, 25]\n",
      "NonAPA:\n",
      "Countercorrect: 30\n",
      "[5, 3, 12, 2, 47]\n"
     ]
    }
   ],
   "source": [
    "counterCorrect, reasonFail = getApaSentenceEval()\n",
    "counterCorrect, reasonFail = getNonApaSentenceEval()\n"
   ]
  }
 ],
 "metadata": {
  "kernelspec": {
   "display_name": "Python 3",
   "language": "python",
   "name": "python3"
  },
  "language_info": {
   "codemirror_mode": {
    "name": "ipython",
    "version": 3
   },
   "file_extension": ".py",
   "mimetype": "text/x-python",
   "name": "python",
   "nbconvert_exporter": "python",
   "pygments_lexer": "ipython3",
   "version": "3.7.6"
  }
 },
 "nbformat": 4,
 "nbformat_minor": 4
}
